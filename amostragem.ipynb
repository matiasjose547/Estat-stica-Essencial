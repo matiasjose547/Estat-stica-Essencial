{
 "cells": [
  {
   "cell_type": "code",
   "execution_count": 1,
   "id": "2fee0f23",
   "metadata": {
    "_cell_guid": "b1076dfc-b9ad-4769-8c92-a6c4dae69d19",
    "_uuid": "8f2839f25d086af736a60e9eeb907d3b93b6e0e5",
    "collapsed": true,
    "execution": {
     "iopub.execute_input": "2024-07-16T02:04:39.243366Z",
     "iopub.status.busy": "2024-07-16T02:04:39.242929Z",
     "iopub.status.idle": "2024-07-16T02:04:40.195069Z",
     "shell.execute_reply": "2024-07-16T02:04:40.193551Z"
    },
    "jupyter": {
     "outputs_hidden": true
    },
    "papermill": {
     "duration": 0.961051,
     "end_time": "2024-07-16T02:04:40.198507",
     "exception": false,
     "start_time": "2024-07-16T02:04:39.237456",
     "status": "completed"
    },
    "tags": []
   },
   "outputs": [
    {
     "name": "stdout",
     "output_type": "stream",
     "text": [
      "/kaggle/input/livros-skoob/dados.csv\n",
      "/kaggle/input/top-anime-dataset-2024/Top_Anime_data.csv\n"
     ]
    }
   ],
   "source": [
    "import numpy as np # linear algebra\n",
    "import pandas as pd # data processing, CSV file I/O (e.g. pd.read_csv)\n",
    "from random import sample\n",
    "\n",
    "import os\n",
    "for dirname, _, filenames in os.walk('/kaggle/input'):\n",
    "    for filename in filenames:\n",
    "        print(os.path.join(dirname, filename))"
   ]
  },
  {
   "cell_type": "code",
   "execution_count": 2,
   "id": "3185823e",
   "metadata": {
    "collapsed": true,
    "execution": {
     "iopub.execute_input": "2024-07-16T02:04:40.208347Z",
     "iopub.status.busy": "2024-07-16T02:04:40.207827Z",
     "iopub.status.idle": "2024-07-16T02:04:40.757880Z",
     "shell.execute_reply": "2024-07-16T02:04:40.756609Z"
    },
    "jupyter": {
     "outputs_hidden": true
    },
    "papermill": {
     "duration": 0.557154,
     "end_time": "2024-07-16T02:04:40.760418",
     "exception": false,
     "start_time": "2024-07-16T02:04:40.203264",
     "status": "completed"
    },
    "tags": []
   },
   "outputs": [
    {
     "data": {
      "text/plain": [
       "11          A última porta\n",
       "9        Cidade nas Trevas\n",
       "3     M, o Filho do Século\n",
       "8       A Guerra Pela Uber\n",
       "Name: titulo, dtype: object"
      ]
     },
     "execution_count": 2,
     "metadata": {},
     "output_type": "execute_result"
    }
   ],
   "source": [
    "#Amostragem aleatória simples\n",
    "\n",
    "df = pd.read_csv('/kaggle/input/livros-skoob/dados.csv')\n",
    "\n",
    "t = df.head(12)\n",
    "populacao = t.titulo.to_list()\n",
    "\n",
    "sample(populacao, 4) # amostragem com python\n",
    "\n",
    "t['titulo'].sample(n= 4) # amostragem com pandas(por quantidade)\n",
    "t['titulo'].sample(frac=0.33) # amostragem com pandas(por fração)"
   ]
  },
  {
   "cell_type": "code",
   "execution_count": 3,
   "id": "27ead404",
   "metadata": {
    "collapsed": true,
    "execution": {
     "iopub.execute_input": "2024-07-16T02:04:40.768468Z",
     "iopub.status.busy": "2024-07-16T02:04:40.768072Z",
     "iopub.status.idle": "2024-07-16T02:04:40.778070Z",
     "shell.execute_reply": "2024-07-16T02:04:40.776895Z"
    },
    "jupyter": {
     "outputs_hidden": true
    },
    "papermill": {
     "duration": 0.017239,
     "end_time": "2024-07-16T02:04:40.780880",
     "exception": false,
     "start_time": "2024-07-16T02:04:40.763641",
     "status": "completed"
    },
    "tags": []
   },
   "outputs": [
    {
     "name": "stdout",
     "output_type": "stream",
     "text": [
      "0\n",
      "3\n",
      "6\n",
      "9\n",
      "1                Minha Sombria Vanessa\n",
      "4     Oblivion Song: Entre Dois Mundos\n",
      "7                          Baby Shark!\n",
      "10                Território Lovecraft\n",
      "Name: titulo, dtype: object\n"
     ]
    }
   ],
   "source": [
    "# Amostragem aleatória sistemática\n",
    "\n",
    "tamanho_populacao = len(populacao)\n",
    "for item in range(0, tamanho_populacao, 3):\n",
    "    print(item)\n",
    "\n",
    "amostragem_sistematica = [] \n",
    "for item in range(1,tamanho_populacao, 3): # Amostragem com python\n",
    "    amostragem_sistematica.append(populacao[item])\n",
    "# print(amostragem_sistematica)\n",
    "\n",
    "np.arange(1,12, step=3)\n",
    "def amostragem_sistematica(df, inicio=0, step=3):\n",
    "    indexes = np.arange(inicio, t.shape[0] ,step)\n",
    "    amostra = df.iloc[indexes]\n",
    "    return amostra\n",
    "\n",
    "print(amostragem_sistematica(t['titulo'], 1, 3))\n"
   ]
  },
  {
   "cell_type": "code",
   "execution_count": 4,
   "id": "5f640275",
   "metadata": {
    "execution": {
     "iopub.execute_input": "2024-07-16T02:04:40.788779Z",
     "iopub.status.busy": "2024-07-16T02:04:40.788368Z",
     "iopub.status.idle": "2024-07-16T02:04:40.793527Z",
     "shell.execute_reply": "2024-07-16T02:04:40.792289Z"
    },
    "papermill": {
     "duration": 0.011935,
     "end_time": "2024-07-16T02:04:40.795984",
     "exception": false,
     "start_time": "2024-07-16T02:04:40.784049",
     "status": "completed"
    },
    "tags": []
   },
   "outputs": [],
   "source": [
    "# Amostragem estratificado\n"
   ]
  }
 ],
 "metadata": {
  "kaggle": {
   "accelerator": "none",
   "dataSources": [
    {
     "datasetId": 4892316,
     "sourceId": 8262685,
     "sourceType": "datasetVersion"
    },
    {
     "datasetId": 1063496,
     "sourceId": 1789251,
     "sourceType": "datasetVersion"
    }
   ],
   "isGpuEnabled": false,
   "isInternetEnabled": false,
   "language": "python",
   "sourceType": "notebook"
  },
  "kernelspec": {
   "display_name": "Python 3",
   "language": "python",
   "name": "python3"
  },
  "language_info": {
   "codemirror_mode": {
    "name": "ipython",
    "version": 3
   },
   "file_extension": ".py",
   "mimetype": "text/x-python",
   "name": "python",
   "nbconvert_exporter": "python",
   "pygments_lexer": "ipython3",
   "version": "3.10.13"
  },
  "papermill": {
   "default_parameters": {},
   "duration": 5.132616,
   "end_time": "2024-07-16T02:04:41.320806",
   "environment_variables": {},
   "exception": null,
   "input_path": "__notebook__.ipynb",
   "output_path": "__notebook__.ipynb",
   "parameters": {},
   "start_time": "2024-07-16T02:04:36.188190",
   "version": "2.5.0"
  }
 },
 "nbformat": 4,
 "nbformat_minor": 5
}
